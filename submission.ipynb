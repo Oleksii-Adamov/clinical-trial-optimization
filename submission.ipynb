{
  "cells": [
    {
      "cell_type": "markdown",
      "metadata": {
        "id": "Ib_teb4PDzIM"
      },
      "source": [
        "# Imports"
      ]
    },
    {
      "cell_type": "code",
      "execution_count": null,
      "metadata": {
        "id": "6QZgPFVoH_Jb",
        "colab": {
          "base_uri": "https://localhost:8080/",
          "height": 404
        },
        "outputId": "7402a2b3-0ed9-47e6-dac8-ccb81830a6e6"
      },
      "outputs": [
        {
          "output_type": "error",
          "ename": "ModuleNotFoundError",
          "evalue": "No module named 'closely'",
          "traceback": [
            "\u001b[0;31m---------------------------------------------------------------------------\u001b[0m",
            "\u001b[0;31mModuleNotFoundError\u001b[0m                       Traceback (most recent call last)",
            "\u001b[0;32m<ipython-input-8-e88e7edd3a12>\u001b[0m in \u001b[0;36m<cell line: 3>\u001b[0;34m()\u001b[0m\n\u001b[1;32m      1\u001b[0m \u001b[0;32mfrom\u001b[0m \u001b[0mscipy\u001b[0m\u001b[0;34m.\u001b[0m\u001b[0moptimize\u001b[0m \u001b[0;32mimport\u001b[0m \u001b[0mminimize\u001b[0m\u001b[0;34m\u001b[0m\u001b[0;34m\u001b[0m\u001b[0m\n\u001b[1;32m      2\u001b[0m \u001b[0;32mimport\u001b[0m \u001b[0mtime\u001b[0m\u001b[0;34m\u001b[0m\u001b[0;34m\u001b[0m\u001b[0m\n\u001b[0;32m----> 3\u001b[0;31m \u001b[0;32mimport\u001b[0m \u001b[0mclosely\u001b[0m\u001b[0;34m\u001b[0m\u001b[0;34m\u001b[0m\u001b[0m\n\u001b[0m\u001b[1;32m      4\u001b[0m \u001b[0;32mimport\u001b[0m \u001b[0mnumpy\u001b[0m \u001b[0;32mas\u001b[0m \u001b[0mnp\u001b[0m\u001b[0;34m\u001b[0m\u001b[0;34m\u001b[0m\u001b[0m\n\u001b[1;32m      5\u001b[0m \u001b[0;32mimport\u001b[0m \u001b[0mpickle\u001b[0m\u001b[0;34m\u001b[0m\u001b[0;34m\u001b[0m\u001b[0m\n",
            "\u001b[0;31mModuleNotFoundError\u001b[0m: No module named 'closely'",
            "",
            "\u001b[0;31m---------------------------------------------------------------------------\u001b[0;32m\nNOTE: If your import is failing due to a missing package, you can\nmanually install dependencies using either !pip or !apt.\n\nTo view examples of installing some common dependencies, click the\n\"Open Examples\" button below.\n\u001b[0;31m---------------------------------------------------------------------------\u001b[0m\n"
          ],
          "errorDetails": {
            "actions": [
              {
                "action": "open_url",
                "actionText": "Open Examples",
                "url": "/notebooks/snippets/importing_libraries.ipynb"
              }
            ]
          }
        }
      ],
      "source": [
        "from scipy.optimize import minimize\n",
        "import time\n",
        "import closely\n",
        "import numpy as np\n",
        "import pickle\n",
        "from datetime import datetime\n",
        "import math\n",
        "from use_case import ClinicalTrial"
      ]
    },
    {
      "cell_type": "markdown",
      "metadata": {
        "id": "9ZHj-ICXclKy"
      },
      "source": [
        "# Solution"
      ]
    },
    {
      "cell_type": "markdown",
      "metadata": {
        "id": "40ZY-0P4upYI"
      },
      "source": [
        "## QAOA"
      ]
    },
    {
      "cell_type": "markdown",
      "metadata": {
        "id": "KRN92x7RZnbC"
      },
      "source": [
        "### constructing QUBO matrix"
      ]
    },
    {
      "cell_type": "code",
      "execution_count": null,
      "metadata": {
        "id": "QA8YLXeFgiz9"
      },
      "outputs": [],
      "source": [
        "def constuct_qubo_matrix(input):\n",
        "    n = input.w.shape[0]\n",
        "    n_squared = n * n\n",
        "    Q = np.zeros((n, n))\n",
        "    offset = 0\n",
        "    # mean\n",
        "    for w_index in range(0, 3):\n",
        "        for i1 in range(0, n):\n",
        "            for i2 in range(0, n):\n",
        "                Q[i1, i2] += 4 * input.w[i1, w_index] * input.w[i2, w_index] / n_squared\n",
        "                Q[i1, i1] -= 2 * input.w[i1, w_index] * input.w[i2, w_index] / n_squared\n",
        "                Q[i2, i2] -= 2 * input.w[i1, w_index] * input.w[i2, w_index] / n_squared\n",
        "                offset += input.w[i1, w_index] * input.w[i2, w_index] / n_squared\n",
        "    # var i\n",
        "    for w_index in range(0, 3):\n",
        "        for i1 in range(0, n):\n",
        "            for i2 in range(0, n):\n",
        "                Q[i1, i2] += input.rho * 4 * input.w[i1, w_index] ** 2 * input.w[i2, w_index] ** 2 / n_squared\n",
        "                Q[i1, i1] -= input.rho * 2 * input.w[i1, w_index] ** 2 * input.w[i2, w_index] ** 2 / n_squared\n",
        "                Q[i2, i2] -= input.rho * 2 * input.w[i1, w_index] ** 2 * input.w[i2, w_index] ** 2 / n_squared\n",
        "                offset += input.rho * input.w[i1, w_index] ** 2 * input.w[i2, w_index] ** 2 / n_squared\n",
        "    # var i j\n",
        "    for w_index1 in range(0, 3):\n",
        "        for w_index2 in range(w_index1+1, 3):\n",
        "            for i1 in range(0, n):\n",
        "                for i2 in range(0, n):\n",
        "                    Q[i1, i2] +=  2 * input.rho * 4 * input.w[i1, w_index1] * input.w[i1, w_index2] * input.w[i2, w_index1] * input.w[i2, w_index2] / n_squared\n",
        "                    Q[i1, i1] -= 2 * input.rho * 2 * input.w[i1, w_index1] * input.w[i1, w_index2] * input.w[i2, w_index1] * input.w[i2, w_index2] / n_squared\n",
        "                    Q[i2, i2] -= 2 * input.rho * 2 * input.w[i1, w_index1] * input.w[i1, w_index2] * input.w[i2, w_index1] * input.w[i2, w_index2] / n_squared\n",
        "                    offset += 2 * input.rho * input.w[i1, w_index1] * input.w[i1, w_index2] * input.w[i2, w_index1] * input.w[i2, w_index2] / n_squared\n",
        "    for i in range(0, n):\n",
        "        for j in range(0, n):\n",
        "            if i > j:\n",
        "                Q[i, j] *= 2\n",
        "            elif i < j:\n",
        "                Q[i, j] = 0\n",
        "    return Q[0:-1,0:-1], offset\n",
        "\n",
        "def qubo_cost(x, Q, offset):\n",
        "    return x.T @ Q @ x + offset"
      ]
    },
    {
      "cell_type": "markdown",
      "metadata": {
        "id": "UC9q6OzDZgnh"
      },
      "source": [
        "### Custom QAOA"
      ]
    },
    {
      "cell_type": "markdown",
      "metadata": {
        "id": "LNMG1-IJWEZV"
      },
      "source": [
        "##### qaoa circuit"
      ]
    },
    {
      "cell_type": "code",
      "execution_count": null,
      "metadata": {
        "id": "tDbPI0_0usce"
      },
      "outputs": [],
      "source": [
        "from qiskit import QuantumCircuit\n",
        "from qiskit.circuit.library import XXPlusYYGate\n",
        "from qiskit_aer import AerSimulator\n",
        "from qiskit import transpile\n",
        "\n",
        "def xy_ring_mixer(n_qubits, angle):\n",
        "    circuit = QuantumCircuit(n_qubits)\n",
        "\n",
        "    # ring\n",
        "    pairs = [[i, i + 1] for i in range(n_qubits - 1)]\n",
        "    pairs.append([n_qubits - 1, 0])\n",
        "\n",
        "    for i, e in enumerate(pairs):\n",
        "        circuit.append(XXPlusYYGate(0.5 * angle), e)\n",
        "\n",
        "    return circuit\n",
        "\n",
        "def initilize(n_qubits, bitarr):\n",
        "    circuit = QuantumCircuit(n_qubits)\n",
        "    if bitarr is None:\n",
        "            for i in range(0, n_qubits, 2):\n",
        "                circuit.x(i)\n",
        "    else:\n",
        "        for i in range(0, n_qubits):\n",
        "            if bitarr[i] == 1:\n",
        "                circuit.x(i)\n",
        "    return circuit\n",
        "\n",
        "def cost_layer(Q, param):\n",
        "    n_qubits = Q.shape[0]\n",
        "    circuit = QuantumCircuit(n_qubits)\n",
        "    for i in range(n_qubits):\n",
        "        w_i = 0.5 * np.sum(Q[:, i])\n",
        "\n",
        "        if not math.isclose(w_i, 0, abs_tol=1e-7):\n",
        "            circuit.rz(param * w_i, i)\n",
        "\n",
        "        for j in range(i + 1, n_qubits):\n",
        "            w_ij = 0.25 * Q[j][i]\n",
        "\n",
        "            if not math.isclose(w_ij, 0, abs_tol=1e-7):\n",
        "                circuit.cx(i, j)\n",
        "                circuit.rz(param * w_ij, j)\n",
        "                circuit.cx(i, j)\n",
        "    return circuit\n",
        "\n",
        "def qaoa_circuit(Q, mixer_layers, params, bitarr_init):\n",
        "    n_qubits = Q.shape[0]\n",
        "    circuit_length = params.shape[0] // 2\n",
        "    cost_layer_params = params[:circuit_length]\n",
        "    mixer_layer_params = params[circuit_length:]\n",
        "    circuit = initilize(n_qubits, bitarr_init)\n",
        "    for layer in range(0, cost_layer_params.shape[0]):\n",
        "        circuit.compose(cost_layer(Q, cost_layer_params[layer]))\n",
        "        for mixer_layer in range(mixer_layers):\n",
        "            circuit.compose(xy_ring_mixer(n_qubits, mixer_layer_params[layer]), inplace=True)\n",
        "    circuit.measure_all()\n",
        "    return circuit\n",
        "\n",
        "device = AerSimulator()\n",
        "\n",
        "def run_qaoa_circuit(device, shots, Q, mixer_layers, params, bitarr_init):\n",
        "    circuit = qaoa_circuit(Q, mixer_layers, params, bitarr_init)\n",
        "    circuit = transpile(circuit, device)\n",
        "    result = device.run(circuits=circuit, shots=shots).result()\n",
        "    counts = result.get_counts(circuit)\n",
        "    return counts"
      ]
    },
    {
      "cell_type": "markdown",
      "metadata": {
        "id": "_3v3a4Tzo2Po"
      },
      "source": [
        "##### group helpers"
      ]
    },
    {
      "cell_type": "code",
      "execution_count": null,
      "metadata": {
        "id": "WtyM4ucTo5tL"
      },
      "outputs": [],
      "source": [
        "def group_complement(group):\n",
        "    return 1 - group\n",
        "\n",
        "def group_from_x(x):\n",
        "    return np.append(x, 0)\n",
        "\n",
        "def groups_from_x(x):\n",
        "    group1 = group_from_x(x)\n",
        "    group2 = group_complement(group1)\n",
        "    return group1, group2"
      ]
    },
    {
      "cell_type": "markdown",
      "metadata": {
        "id": "_Hn6ufcjWQDh"
      },
      "source": [
        "##### cost function"
      ]
    },
    {
      "cell_type": "code",
      "execution_count": null,
      "metadata": {
        "id": "dFf9bRuRWR5e"
      },
      "outputs": [],
      "source": [
        "output = None\n",
        "def process_counts(counts, shots, Q, offset, is_qubo_cost):\n",
        "    energy_expect = 0\n",
        "    minimal_energy = None\n",
        "    best_sol = None\n",
        "    for bin_string, count in counts.items():\n",
        "        x = (np.fromstring(bin_string, 'u1') - ord('0')).astype(int)\n",
        "        if is_qubo_cost:\n",
        "            cost = qubo_cost(x, Q, offset)\n",
        "        else:\n",
        "            group1, group2 = groups_from_x(x)\n",
        "            cost = input.discrepancy(group1, group2)\n",
        "        energy_expect += count * cost / shots\n",
        "        if minimal_energy is None or cost < minimal_energy:\n",
        "            minimal_energy = cost\n",
        "            best_sol = x\n",
        "    return energy_expect, minimal_energy, best_sol\n",
        "\n",
        "def update_tracker(energy_expect, minimal_energy, best_sol, params, tracker, verbose):\n",
        "    tracker[\"energy_expectations\"].append(energy_expect)\n",
        "    tracker[\"step_opt_energies\"].append(minimal_energy)\n",
        "    tracker[\"step_opt_sol\"].append(best_sol)\n",
        "\n",
        "    if verbose:\n",
        "        print(\"Minimal energy:\", minimal_energy)\n",
        "        print(\"Energy expectation:\", energy_expect)\n",
        "        print(\"Parameters:\", params)\n",
        "\n",
        "    tracker.update({\"count\": tracker[\"count\"] + 1})\n",
        "\n",
        "    tracker[\"params\"].append(params)\n",
        "\n",
        "    if tracker['min_energy_expect'] is None or energy_expect < tracker['min_energy_expect']:\n",
        "        tracker.update({\"min_energy_expect\": energy_expect})\n",
        "        tracker.update({\"opt_params\": params})\n",
        "\n",
        "    # store global optimum\n",
        "    if len(tracker[\"global_opt_energies\"]) == 0 or minimal_energy < tracker[\"global_opt_energies\"][-1]:\n",
        "        tracker[\"global_opt_energies\"].append(minimal_energy)\n",
        "        tracker.update({\"global_opt_sol\": best_sol})\n",
        "        output = group_from_x(best_sol)\n",
        "    else:\n",
        "        tracker[\"global_opt_energies\"].append(tracker[\"global_opt_energies\"][-1])\n",
        "\n",
        "def cost_function(params, Q, offset, mixer_layers, device, shots, tracker, bitarr_init, is_qubo_cost, verbose):\n",
        "    if verbose:\n",
        "        print(\"==================================\" * 2)\n",
        "        print(\"Calling the quantum circuit. Cycle:\", tracker[\"count\"])\n",
        "    counts = run_qaoa_circuit(device, shots, Q, mixer_layers, params, bitarr_init)\n",
        "    energy_expect, minimal_energy, best_sol = process_counts(counts, shots, Q, offset, is_qubo_cost)\n",
        "    update_tracker(energy_expect, minimal_energy, best_sol, params, tracker, verbose)\n",
        "    cost = energy_expect\n",
        "    if verbose:\n",
        "        print(\"Cost:\", cost)\n",
        "    return cost"
      ]
    },
    {
      "cell_type": "markdown",
      "metadata": {
        "id": "eX0CUiufWG6Z"
      },
      "source": [
        "##### optimization"
      ]
    },
    {
      "cell_type": "code",
      "execution_count": null,
      "metadata": {
        "id": "y77HSCUMWJ1k"
      },
      "outputs": [],
      "source": [
        "def optimize(params0, maxfev, opt_method, Q, offset, mixer_layers, device, shots, tracker, bitarr_init, is_qubo, verbose):\n",
        "    bnds = [(0, 2 * np.pi) for _ in range(params0.shape[0])]\n",
        "    options = {'disp': True, 'maxiter': maxfev}\n",
        "    minimize(\n",
        "        cost_function,\n",
        "        params0,\n",
        "        args=(Q, offset, mixer_layers, device, shots, tracker, bitarr_init, is_qubo, verbose),\n",
        "        options=options,\n",
        "        method=opt_method,\n",
        "        bounds=bnds,\n",
        "        tol=1e-6\n",
        "    )"
      ]
    },
    {
      "cell_type": "markdown",
      "metadata": {
        "id": "Clz0VUbZQ79I"
      },
      "source": [
        "##### tracker"
      ]
    },
    {
      "cell_type": "code",
      "execution_count": null,
      "metadata": {
        "id": "r4Fm7DPmQ9uR"
      },
      "outputs": [],
      "source": [
        "def initialize_tracker():\n",
        "    tracker = {\n",
        "        'count': 0,                           # Elapsed optimization steps\n",
        "        'step_opt_energies': [],              # Optimal energy at each step\n",
        "        'global_opt_energies': [],            # Global optimal energy at each step\n",
        "        'global_opt_sol': None,               # Global optimal bitstring\n",
        "        'step_opt_sol': [],                   # Optimal bitstring at each step\n",
        "        'energy_expectations': [],            # energy expectation at each step\n",
        "        'params': [],                         # parameters at each step\n",
        "        'opt_params': None,                   # Track optimal parameters\n",
        "        'min_energy_expect': None,            # Global minumum energy expectation value reached\n",
        "        'time': time.time()                          # Time of the optimization\n",
        "    }\n",
        "    return tracker"
      ]
    },
    {
      "cell_type": "markdown",
      "source": [
        "##### closest pairs"
      ],
      "metadata": {
        "id": "d4UVhwQDNCye"
      }
    },
    {
      "cell_type": "code",
      "source": [
        "def initial_partition_by_closest_pairs(input):\n",
        "    points = input.w.copy()\n",
        "\n",
        "    points_pos = {}\n",
        "    for i in range(0, points.shape[0]):\n",
        "        points_pos[tuple(points[i])] = i\n",
        "\n",
        "    bitarr_init = np.empty(input.w.shape[0], dtype=int)\n",
        "    for i in range(0, input.w.shape[0] // 2):\n",
        "        pairs, distances = closely.solve(points, n=1)\n",
        "        bitarr_init[points_pos[tuple(points[pairs[0, 0]])]] = 0\n",
        "        bitarr_init[points_pos[tuple(points[pairs[0, 1]])]] = 1\n",
        "        points = np.delete(points, [pairs[0, 0], pairs[0, 1]], axis=0)\n",
        "\n",
        "    if bitarr_init[0] == 1:\n",
        "        bitarr_init = 1 - bitarr_init\n",
        "    #print('closest pair discrepancy =', input.discrepancy(bitarr_init, group_complement(bitarr_init)))\n",
        "    bitarr_init = bitarr_init[1:]\n",
        "\n",
        "    return bitarr_init"
      ],
      "metadata": {
        "id": "qxZQxopIN5ox"
      },
      "execution_count": null,
      "outputs": []
    },
    {
      "cell_type": "markdown",
      "metadata": {
        "id": "QYyTO8991LEi"
      },
      "source": [
        "##### solve"
      ]
    },
    {
      "cell_type": "code",
      "execution_count": null,
      "metadata": {
        "id": "c10b0Dj41MYm"
      },
      "outputs": [],
      "source": [
        "def solve(input):\n",
        "    # hyperparams\n",
        "    depth = 1\n",
        "    mixer_layers = 16\n",
        "    shots = 2500\n",
        "    #device = AerSimulator()\n",
        "    device = AerSimulator(method='statevector', device='GPU')\n",
        "    bitarr_init = initial_partition_by_closest_pairs(input)\n",
        "    is_qubo = False\n",
        "    verbose = False\n",
        "    maxfev = 20\n",
        "    opt_method = 'COBYLA'\n",
        "    n_iter = 3\n",
        "\n",
        "    Q, offset = constuct_qubo_matrix(input)\n",
        "\n",
        "    tracker = initialize_tracker()\n",
        "    for _ in range(n_iter):\n",
        "        tracker.update({\"count\": 0})\n",
        "        # optimize\n",
        "        params0 = np.random.uniform(0, 2 * np.pi, 2 * depth)\n",
        "        optimize(params0, maxfev, opt_method, Q, offset, mixer_layers, device, shots, tracker, bitarr_init, is_qubo, verbose)\n",
        "\n",
        "    end = time.time()\n",
        "    tracker.update({\"time\": end - tracker[\"time\"]})\n",
        "    #print(\"time: \", tracker[\"time\"])\n",
        "\n",
        "    return tracker[\"global_opt_energies\"][-1], tracker[\"global_opt_sol\"]"
      ]
    },
    {
      "cell_type": "markdown",
      "metadata": {
        "id": "OBvi0I-LRi9C"
      },
      "source": [
        "##### solution"
      ]
    },
    {
      "cell_type": "code",
      "execution_count": 3,
      "metadata": {
        "id": "L3OG1JL2RgEP"
      },
      "outputs": [],
      "source": [
        "n_clusters = 5\n",
        "cluster_size = input.w.shape[0] // n_clusters"
      ]
    },
    {
      "cell_type": "code",
      "source": [
        "from k_means_constrained import KMeansConstrained\n",
        "kmeans_c = KMeansConstrained(n_clusters=n_clusters, size_min=cluster_size, size_max=cluster_size, random_state=0)\n",
        "kmeans_c.fit(input.w)\n",
        "cluster_labels = kmeans_c.labels_"
      ],
      "metadata": {
        "id": "9v2-xDXRwWq0"
      },
      "execution_count": null,
      "outputs": []
    },
    {
      "cell_type": "code",
      "source": [
        "np.random.seed(1)"
      ],
      "metadata": {
        "id": "8saQvfVvwkNn"
      },
      "execution_count": null,
      "outputs": []
    },
    {
      "cell_type": "code",
      "source": [
        "opt_group = np.empty(input.w.shape[0])\n",
        "w_original = input.w\n",
        "for i in range(0, n_clusters):\n",
        "    indecies = (cluster_labels == i).nonzero()[0]\n",
        "    input.w = w_original[cluster_labels == i]\n",
        "    _, cluster_opt_sol = solve(input)\n",
        "    cluster_opt_group = group_from_x(cluster_opt_sol)\n",
        "    for j in range(0, cluster_opt_group.shape[0]):\n",
        "        opt_group[indecies[j]] = cluster_opt_group[j]\n",
        "input.w = w_original"
      ],
      "metadata": {
        "id": "W09muKJ7d8RN"
      },
      "execution_count": null,
      "outputs": []
    },
    {
      "cell_type": "code",
      "source": [
        "print(\"Optimal discrepancy reached: \", input.discrepancy(opt_group, group_complement(opt_group)))"
      ],
      "metadata": {
        "colab": {
          "base_uri": "https://localhost:8080/",
          "height": 179
        },
        "id": "wZ6vn-AaEWrv",
        "outputId": "c0003c2b-600f-4aae-f128-5fb6699908e7"
      },
      "execution_count": 5,
      "outputs": [
        {
          "output_type": "error",
          "ename": "AttributeError",
          "evalue": "'function' object has no attribute 'discrepancy'",
          "traceback": [
            "\u001b[0;31m---------------------------------------------------------------------------\u001b[0m",
            "\u001b[0;31mAttributeError\u001b[0m                            Traceback (most recent call last)",
            "\u001b[0;32m<ipython-input-5-ce9f3cebbd04>\u001b[0m in \u001b[0;36m<cell line: 1>\u001b[0;34m()\u001b[0m\n\u001b[0;32m----> 1\u001b[0;31m \u001b[0mprint\u001b[0m\u001b[0;34m(\u001b[0m\u001b[0;34m\"Optimal discrepancy reached: \"\u001b[0m\u001b[0;34m,\u001b[0m \u001b[0minput\u001b[0m\u001b[0;34m.\u001b[0m\u001b[0mdiscrepancy\u001b[0m\u001b[0;34m(\u001b[0m\u001b[0mopt_group\u001b[0m\u001b[0;34m,\u001b[0m \u001b[0mgroup_complement\u001b[0m\u001b[0;34m(\u001b[0m\u001b[0mopt_group\u001b[0m\u001b[0;34m)\u001b[0m\u001b[0;34m)\u001b[0m\u001b[0;34m)\u001b[0m\u001b[0;34m\u001b[0m\u001b[0;34m\u001b[0m\u001b[0m\n\u001b[0m\u001b[1;32m      2\u001b[0m \u001b[0mprint\u001b[0m\u001b[0;34m(\u001b[0m\u001b[0;34m\"Output group: \"\u001b[0m\u001b[0;34m,\u001b[0m \u001b[0moutput\u001b[0m\u001b[0;34m)\u001b[0m\u001b[0;34m\u001b[0m\u001b[0;34m\u001b[0m\u001b[0m\n",
            "\u001b[0;31mAttributeError\u001b[0m: 'function' object has no attribute 'discrepancy'"
          ]
        }
      ]
    },
    {
      "cell_type": "code",
      "source": [
        "output = (opt_group, group_complement(opt_group))"
      ],
      "metadata": {
        "id": "30qaEYbNmfHy"
      },
      "execution_count": null,
      "outputs": []
    }
  ],
  "metadata": {
    "colab": {
      "collapsed_sections": [
        "KRN92x7RZnbC",
        "_3v3a4Tzo2Po",
        "eX0CUiufWG6Z",
        "Clz0VUbZQ79I",
        "d4UVhwQDNCye"
      ],
      "provenance": []
    },
    "kernelspec": {
      "display_name": "Python 3",
      "name": "python3"
    },
    "language_info": {
      "name": "python"
    }
  },
  "nbformat": 4,
  "nbformat_minor": 0
}